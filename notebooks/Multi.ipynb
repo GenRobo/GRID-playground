{
 "cells": [
  {
   "cell_type": "code",
   "execution_count": 34,
   "id": "3f14f4fc-221c-461e-9fe7-c5e9746340ce",
   "metadata": {},
   "outputs": [],
   "source": [
    "import airgen\n",
    "from airgen.utils.collect import data_collector\n",
    "from typing import List, Tuple, Dict, Any, Optional, Callable"
   ]
  },
  {
   "cell_type": "code",
   "execution_count": 2,
   "id": "83ba0165-9d2b-4ac5-9458-e5e696ab1705",
   "metadata": {},
   "outputs": [],
   "source": [
    "drones = [airgen.MultirotorClient()] *5"
   ]
  },
  {
   "cell_type": "code",
   "execution_count": 3,
   "id": "8da5e8cc-d5f4-411e-8c21-04b931aa6bde",
   "metadata": {},
   "outputs": [],
   "source": [
    "num_drones = 5\n",
    "for i in range(num_drones):\n",
    "    drone_name = f\"Drone{i}\" if i>0 else \"Drone\"\n",
    "    drones[i].enableApiControl(True, vehicle_name=drone_name)\n",
    "    drones[i].takeoffAsync(vehicle_name=drone_name)"
   ]
  },
  {
   "cell_type": "code",
   "execution_count": 6,
   "id": "fa8ed3a8-e963-4603-a088-94e07f0fab0b",
   "metadata": {},
   "outputs": [
    {
     "data": {
      "text/plain": [
       "<msgpackrpc.future.Future at 0x7f9126384150>"
      ]
     },
     "execution_count": 6,
     "metadata": {},
     "output_type": "execute_result"
    }
   ],
   "source": [
    "drones[0].moveToPositionAsync(0, 10, -10, 5)"
   ]
  },
  {
   "cell_type": "code",
   "execution_count": 8,
   "id": "1f85523f-9246-474e-a4b6-4b5c20e1fd00",
   "metadata": {},
   "outputs": [],
   "source": [
    "from grid.model.perception.detection.gdino import GroundingDINO"
   ]
  },
  {
   "cell_type": "code",
   "execution_count": 17,
   "id": "695ac9be-2aa0-4860-bec3-a5c695d4d84f",
   "metadata": {},
   "outputs": [
    {
     "name": "stdout",
     "output_type": "stream",
     "text": [
      "[[ 49.85315   63.12695  101.855576 142.61145 ]\n",
      " [106.66642   80.96768  144.94434  137.97488 ]\n",
      " [185.32486  106.87101  195.88211  139.22798 ]\n",
      " [208.94939  106.346375 219.08446  141.56047 ]] ['windmill', 'windmill', 'windmill', 'windmill']\n"
     ]
    }
   ],
   "source": [
    "gdinomodel = GroundingDINO()\n",
    "img = drones[0].getImages(\"front_center\",[airgen.ImageType.Scene])[0][0]\n",
    "boxes, phrases = gdinomodel.detect_object(img, \"windmill .\")\n",
    "print(boxes, phrases)"
   ]
  },
  {
   "cell_type": "code",
   "execution_count": null,
   "id": "889c76f1-fae5-49c9-9fe3-a9bf68e982ac",
   "metadata": {},
   "outputs": [],
   "source": [
    "from grid.model.perception.vlm.llava import LLaVA"
   ]
  },
  {
   "cell_type": "code",
   "execution_count": 19,
   "id": "f8d535d2-e5fc-4681-926f-fa4176459c04",
   "metadata": {},
   "outputs": [
    {
     "name": "stdout",
     "output_type": "stream",
     "text": [
      " The image features a large, open field with a wind farm in the background. There are several wind turbines scattered throughout the field, with some closer to the foreground and others further away. The wind turbines are of varying sizes, and they are all connected to power lines, indicating that they are generating electricity.\n",
      "\n",
      "In the foreground, there is a car parked, possibly belonging to someone visiting the wind farm. The overall scene gives a sense of the vastness of the field and the power of the wind turbines.\n"
     ]
    }
   ],
   "source": [
    "llava = LLaVA()\n",
    "outputs = llava.run(img, \"What do you see?\")\n",
    "print(outputs)"
   ]
  },
  {
   "cell_type": "code",
   "execution_count": 20,
   "id": "ac8c6b1c-3f2a-4b0b-a19b-a3a0e787b88e",
   "metadata": {},
   "outputs": [],
   "source": [
    "from grid.model.perception.depth.midas import MIDAS"
   ]
  },
  {
   "cell_type": "code",
   "execution_count": 24,
   "id": "4a052152-50f5-41eb-ad67-9022e1ec402a",
   "metadata": {},
   "outputs": [
    {
     "name": "stdout",
     "output_type": "stream",
     "text": [
      "[[   0.          0.          0.       ...   49.099712   51.197495\n",
      "    44.142357]\n",
      " [   0.          0.          0.       ...   47.814533   50.251526\n",
      "    50.553577]\n",
      " [   0.          0.          0.       ...   48.603462   47.677307\n",
      "    49.153477]\n",
      " ...\n",
      " [2542.075    2544.3564   2543.6848   ... 2498.5103   2491.9482\n",
      "  2489.9546  ]\n",
      " [2559.432    2562.4492   2566.4429   ... 2520.8389   2509.9563\n",
      "  2505.6707  ]\n",
      " [2566.123    2579.5022   2589.9307   ... 2555.2407   2523.0515\n",
      "  2509.2966  ]]\n"
     ]
    }
   ],
   "source": [
    "midas = MIDAS()\n",
    "depth = midas.run(img)\n",
    "print(depth)"
   ]
  },
  {
   "cell_type": "code",
   "execution_count": 30,
   "id": "235b1f84-457d-404a-b23f-69b09d199bff",
   "metadata": {},
   "outputs": [],
   "source": [
    "num_episodes = 1\n",
    "import numpy as np\n",
    "\n",
    "x_bounds = (20, 50)  \n",
    "y_bounds = (30, 50)  \n",
    "num_values = 5     \n",
    "\n",
    "\n",
    "x_values = np.random.uniform(x_bounds[0], x_bounds[1], num_values)\n",
    "y_values = np.random.uniform(y_bounds[0], y_bounds[1], num_values)\n",
    "\n",
    "for i in range(num_episodes):\n",
    "    for i in range(num_drones):\n",
    "        drone_name = f\"Drone{i}\" if i>0 else \"Drone\"\n",
    "        drones[i].moveToPositionAsync(x_values[i], y_values[i], -10, 5, vehicle_name=drone_name)"
   ]
  },
  {
   "cell_type": "code",
   "execution_count": 63,
   "id": "243afc84-a947-4195-993c-a24905e78184",
   "metadata": {},
   "outputs": [],
   "source": [
    "def readSensors(client: airgen.MultirotorClient(), drone_name: 'str') -> dict:\n",
    "    sensor_data = {}\n",
    "    img = client.getImages(\"front_center\",[airgen.ImageType.Scene], vehicle_name=drone_name)[0]\n",
    "    sensor_data['rgb'] = img\n",
    "    # sensor_data['depth'] = midas.run(img[0])\n",
    "    # sensor_data['annot'] = gdinomodel.detect_object(img[0], \"windmill .\")\n",
    "    return sensor_data"
   ]
  },
  {
   "cell_type": "code",
   "execution_count": 62,
   "id": "85699119-cc17-4dd5-a0bf-14501c16612e",
   "metadata": {},
   "outputs": [
    {
     "name": "stderr",
     "output_type": "stream",
     "text": [
      "[AirGen][2024-11-08 01:19:43,451][WARNING]-[      collect.py:  69] - error in data collection task: readSensors() missing 1 required positional argument: 'drone_name', return data collection task:readSensors, is not complete\n",
      "WARNING:AirGen:error in data collection task: readSensors() missing 1 required positional argument: 'drone_name', return data collection task:readSensors, is not complete\n"
     ]
    },
    {
     "name": "stdout",
     "output_type": "stream",
     "text": [
      "collected 0 measurements during moving task\n"
     ]
    }
   ],
   "source": [
    "@data_collector(readSensors, time_delta=0.1)\n",
    "def move_task(\n",
    "    client: airgen.MultirotorClient, drone_name: 'str', position: Tuple[float], **kwargs\n",
    ") -> None | Tuple[None, List[dict]]:\n",
    "    client.moveToPositionAsync(position[0],position[1], position[2], position[3], vehicle_name=drone_name)\n",
    "\n",
    "import numpy as np\n",
    "\n",
    "x_bounds = (100, 50)  \n",
    "y_bounds = (100, 50)  \n",
    "num_values = 5     \n",
    "\n",
    "\n",
    "x_values = np.random.uniform(x_bounds[0], x_bounds[1], num_values)\n",
    "y_values = np.random.uniform(y_bounds[0], y_bounds[1], num_values)\n",
    "\n",
    "for i in range(num_drones):\n",
    "    drone_name = f\"Drone{i}\" if i>0 else \"Drone\"\n",
    "    _, sensor_data = move_task(drones[i], drone_name, (x_values[i], y_values[i], -10, 5), _collect_data=True)\n",
    "    \n",
    "# for i, data in enumerate(sensor_data):\n",
    "#     # lidar = data[\"lidar\"]\n",
    "#     # rgb, _ = data[\"rgb\"]\n",
    "#     # rr.log(\"grid/imagery\",rr.Image(rgb))\n",
    "#     # rr.log(\"pointcloud\", rr.Points3D(np.array(lidar.point_cloud).reshape(-1, 3)))\n",
    "\n",
    "print(f\"collected {len(sensor_data)} measurements during moving task\")"
   ]
  },
  {
   "cell_type": "code",
   "execution_count": null,
   "id": "74e50de8-ca4d-4c19-a5d6-7c74ba083dd7",
   "metadata": {},
   "outputs": [],
   "source": []
  }
 ],
 "metadata": {
  "kernelspec": {
   "display_name": "Python 3 (ipykernel)",
   "language": "python",
   "name": "python3"
  },
  "language_info": {
   "codemirror_mode": {
    "name": "ipython",
    "version": 3
   },
   "file_extension": ".py",
   "mimetype": "text/x-python",
   "name": "python",
   "nbconvert_exporter": "python",
   "pygments_lexer": "ipython3",
   "version": "3.12.3"
  }
 },
 "nbformat": 4,
 "nbformat_minor": 5
}

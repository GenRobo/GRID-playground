{
 "cells": [
  {
   "cell_type": "code",
   "execution_count": null,
   "id": "40599a90",
   "metadata": {},
   "outputs": [],
   "source": [
    "# define sensor and image collection function\n",
    "from typing import List, Literal\n",
    "from airgen import ImageType, VehicleClient\n",
    "from airgen.utils.visualize import rr_log_airgen_image\n",
    "import cv2\n",
    "import numpy as np\n",
    "from grid import GRID_USER_SESSION_BLOB_DIR\n",
    "\n",
    "def data_capture(car: VehicleClient, sensor_types: List[str], capture_types: Literal['rgb', 'depth', 'segmentation', 'visdepth'], idx: int = 0):\n",
    "    frame_data = {\"sensor_data\": {}, \"image_data\": {}}\n",
    "    capture_name_map = {\"rgb\": ImageType.Scene, \"depth\": ImageType.DepthPerspective, \"segmentation\": ImageType.Segmentation, \"visdepth\": ImageType.DepthVis}\n",
    "\n",
    "    # get sensor data\n",
    "    for sensor_name in sensor_types:\n",
    "        if sensor_name == \"imu\":\n",
    "            frame_data[\"sensor_data\"][sensor_name] = car.getImuData()\n",
    "        else:\n",
    "            raise ValueError(f\"Unknown sensor name: {sensor_name}\")\n",
    "    image_types = [capture_name_map[capture_type] for capture_type in capture_types]\n",
    "    images = car.getImages(\"front_center\", image_types)\n",
    "\n",
    "    # Received data is a tuple of the image and the corresponding pose\n",
    "    for (capture_type, image) in zip(capture_types, images):\n",
    "        #frame_data[\"image_data\"][capture_type] = image[0]\n",
    "        if capture_type.startswith(\"depth\"):\n",
    "            img_path = os.path.join(GRID_USER_SESSION_BLOB_DIR, capture_type + \"_\" + str(idx) + \".npy\")\n",
    "            np.save(img_path, image[0])\n",
    "        else:\n",
    "            img_path = os.path.join(GRID_USER_SESSION_BLOB_DIR, capture_type + \"_\" + str(idx) + \".png\")\n",
    "            cv2.imwrite(img_path, image[0])\n",
    "        rr_log_airgen_image(\"grid\", capture_name_map[capture_type], image[0])\n",
    "    return frame_data\n",
    "\n",
    "data = data_capture(airgen_car_0.client, ['imu'], ['rgb', 'depth', 'segmentation', 'visdepth'])"
   ]
  },
  {
   "cell_type": "code",
   "execution_count": null,
   "id": "fc89dad2",
   "metadata": {},
   "outputs": [],
   "source": [
    "from airgen import CarControls\n",
    "import time\n",
    "\n",
    "car_controls = CarControls()\n",
    "car_controls.throttle = 0.5\n",
    "airgen_car_0.client.setCarControls(car_controls)\n",
    "\n",
    "for i in range(10):\n",
    "    data = data_capture(airgen_car_0.client, ['imu'], ['rgb', 'depth', 'segmentation'], i)\n",
    "    time.sleep(0.5)\n",
    "\n",
    "airgen_car_0.client.setCarControls(CarControls())"
   ]
  },
  {
   "cell_type": "code",
   "execution_count": null,
   "id": "31da9526",
   "metadata": {},
   "outputs": [],
   "source": [
    "# save collected data to blob storage\n",
    "import json\n",
    "import numpy as np\n",
    "def serialize_to_dict(obj):\n",
    "    if isinstance(obj, np.ndarray):\n",
    "        return obj.tolist()\n",
    "    if hasattr(obj, \"__dict__\"):\n",
    "        return obj.__dict__\n",
    "    else:\n",
    "        raise TypeError(f\"Object of type {type(obj)} is not serializable\")\n",
    "data_str = json.dumps(data, default=serialize_to_dict, ensure_ascii=False, indent=4)\n",
    "\n",
    "# any file in the directory of GRID_USER_SESSION_BLOB_DIR will be uploaded to the blob storage\n",
    "file_path = os.path.join(GRID_USER_SESSION_BLOB_DIR, 'data_collection_sim.json')\n",
    "with open(file_path, 'w') as f:\n",
    "    f.write(data_str)"
   ]
  },
  {
   "cell_type": "code",
   "execution_count": null,
   "id": "ec1de0a2",
   "metadata": {},
   "outputs": [],
   "source": [
    "airgen_car_0.client.simRunConsoleCommand(\"t.maxFPS 15\")\n",
    "airgen_car_0.client.enableApiControl(False)"
   ]
  }
 ],
 "metadata": {
  "language_info": {
   "name": "python"
  }
 },
 "nbformat": 4,
 "nbformat_minor": 5
}

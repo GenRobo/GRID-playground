{
 "cells": [
  {
   "cell_type": "code",
   "execution_count": null,
   "id": "6fec4dac",
   "metadata": {},
   "outputs": [],
   "source": [
    "from grid.robot.aerial.airgen_drone import AirGenDrone \n",
    "airgen_drone__0 = AirGenDrone()"
   ]
  },
  {
   "cell_type": "code",
   "execution_count": null,
   "id": "a2ea83c7",
   "metadata": {},
   "outputs": [],
   "source": [
    "# Take off\n",
    "airgen_drone_0.client.takeoffAsync().join()"
   ]
  },
  {
   "cell_type": "code",
   "execution_count": null,
   "id": "65e74c46",
   "metadata": {},
   "outputs": [],
   "source": [
    "# Get navigation mesh extents from the simulation world\n",
    "nav_mesh_info = airgen_drone_0.client.getNavMeshInfo()\n",
    "print(\"Nav mesh info: {}\".format(nav_mesh_info))"
   ]
  },
  {
   "cell_type": "code",
   "execution_count": null,
   "id": "9c03d7e4",
   "metadata": {},
   "outputs": [],
   "source": [
    "import airgen\n",
    "import numpy as np\n",
    "\n",
    "def sample_random_pose(nav_mesh_info):\n",
    "    # Calculate bounds of the nav mesh from the given info\n",
    "    amplitude = (\n",
    "        np.absolute(\n",
    "            np.array(\n",
    "                [\n",
    "                    nav_mesh_info[2][\"x_val\"] - nav_mesh_info[1][\"x_val\"],\n",
    "                    nav_mesh_info[2][\"y_val\"] - nav_mesh_info[1][\"y_val\"],\n",
    "                    nav_mesh_info[2][\"z_val\"] - nav_mesh_info[1][\"z_val\"],\n",
    "                ]\n",
    "            )\n",
    "        )\n",
    "        / 2.0\n",
    "    )\n",
    "\n",
    "    # Sample a random point on the nav mesh\n",
    "    random_point = airgen.Vector3r(\n",
    "        np.random.uniform(\n",
    "            nav_mesh_info[0][\"x_val\"] - amplitude[0],\n",
    "            nav_mesh_info[0][\"x_val\"] + amplitude[0],\n",
    "        ),\n",
    "        np.random.uniform(\n",
    "            nav_mesh_info[0][\"y_val\"] - amplitude[1],\n",
    "            nav_mesh_info[0][\"y_val\"] + amplitude[1],\n",
    "        ),\n",
    "        np.random.uniform(\n",
    "            nav_mesh_info[0][\"z_val\"] - amplitude[2],\n",
    "            nav_mesh_info[0][\"z_val\"] + amplitude[2],\n",
    "        ),\n",
    "    )\n",
    "\n",
    "    # Sample a random yaw angle\n",
    "    random_yaw = np.random.uniform(-np.pi, np.pi)\n",
    "\n",
    "    # Return the sampled pose\n",
    "    return airgen.Pose(\n",
    "        random_point, airgen.Quaternionr(airgen.Vector3r(0, 0, random_yaw))\n",
    "    )\n"
   ]
  },
  {
   "cell_type": "code",
   "execution_count": null,
   "id": "75cc9678",
   "metadata": {},
   "outputs": [],
   "source": [
    "# Get current pose of the drone in 6-DOF\n",
    "start_pose = airgen_drone_0.client.simGetVehiclePose()\n",
    "\n",
    "# Sample a random valid pose in the environment\n",
    "goal_pose = sample_random_pose(nav_mesh_info)\n",
    "\n",
    "# Set altitude to same as the start\n",
    "goal_pose.position.z_val = start_pose.position.z_val\n",
    "\n",
    "# Compute a collision-free path between start and goal\n",
    "path = airgen_drone_0.client.simPlanPath(\n",
    "    start_pose.position, goal_pose.position, smooth_path=True, draw_path=True\n",
    ")"
   ]
  },
  {
   "cell_type": "code",
   "execution_count": null,
   "id": "77ccbf5d",
   "metadata": {},
   "outputs": [],
   "source": [
    "points = []\n",
    "\n",
    "# Convert path into AirGen waypoints for control\n",
    "for waypoint in path:\n",
    "    points.append(\n",
    "        airgen.Vector3r(waypoint[\"x_val\"], waypoint[\"y_val\"], waypoint[\"z_val\"])\n",
    "    )\n",
    "\n",
    "# Move the drone along the planned path at a velocity of 5 m/s\n",
    "velocity = 5.0\n",
    "airgen_drone_0.client.moveOnPathAsync(\n",
    "    points,\n",
    "    velocity,\n",
    "    120,\n",
    "    airgen.DrivetrainType.ForwardOnly,\n",
    "    airgen.YawMode(False, 0),\n",
    "    -1,\n",
    "    0,\n",
    ").join()"
   ]
  }
 ],
 "metadata": {
  "language_info": {
   "name": "python"
  }
 },
 "nbformat": 4,
 "nbformat_minor": 5
}

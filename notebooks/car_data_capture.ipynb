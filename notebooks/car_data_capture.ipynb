{
 "cells": [
  {
   "cell_type": "code",
   "execution_count": null,
   "id": "4a40871f",
   "metadata": {},
   "outputs": [],
   "source": [
    "from grid.robot.wheeled.airgen_car import AirGenCar\n",
    "airgen_car_0 = AirGenCar()"
   ]
  },
  {
   "cell_type": "code",
   "execution_count": null,
   "id": "802b10c5-ed83-41f9-a67b-5ef1477fc16b",
   "metadata": {},
   "outputs": [],
   "source": [
    "import h5py, os\n",
    "from typing import List\n",
    "from airgen import ImageType, VehicleClient\n",
    "from airgen.utils.visualize import rr_log_airgen_image\n",
    "from grid import GRID_USER_SESSION_BLOB_DIR\n",
    "\n",
    "\n",
    "def capture_data(car: VehicleClient, sensor_types: List[str], capture_types: List[str], hdf5_file_path: str, idx=0):\n",
    "    with h5py.File(hdf5_file_path, 'a') as hdf5_file:\n",
    "        frame_group = hdf5_file.create_group(f\"frame_{idx}\")\n",
    "        sensor_group = frame_group.create_group(\"sensor_data\")\n",
    "        image_group = frame_group.create_group(\"image_data\")\n",
    "\n",
    "        capture_name_map = {\n",
    "            \"rgb\": ImageType.Scene, \n",
    "            \"depth\": ImageType.DepthPerspective, \n",
    "            \"segmentation\": ImageType.Segmentation\n",
    "        }\n",
    "        \n",
    "        # Capture IMU data\n",
    "        if \"imu\" in sensor_types:\n",
    "            imu_data = car.getImuData()\n",
    "            imu_group = sensor_group.create_group(\"imu\")\n",
    "            imu_group.create_dataset(\"time_stamp\", data=imu_data.time_stamp)\n",
    "            imu_group.create_dataset(\"orientation\", data=[\n",
    "                imu_data.orientation.w_val, \n",
    "                imu_data.orientation.x_val, \n",
    "                imu_data.orientation.y_val, \n",
    "                imu_data.orientation.z_val\n",
    "            ])\n",
    "            imu_group.create_dataset(\"angular_velocity\", data=[\n",
    "                imu_data.angular_velocity.x_val, \n",
    "                imu_data.angular_velocity.y_val, \n",
    "                imu_data.angular_velocity.z_val\n",
    "            ])\n",
    "            imu_group.create_dataset(\"linear_acceleration\", data=[\n",
    "                imu_data.linear_acceleration.x_val, \n",
    "                imu_data.linear_acceleration.y_val, \n",
    "                imu_data.linear_acceleration.z_val\n",
    "            ])\n",
    "        \n",
    "        # Capture image data\n",
    "        image_types = [capture_name_map[capture_type] for capture_type in capture_types]\n",
    "        images = car.getImages(\"front_center\", image_types)\n",
    "        \n",
    "        for capture_type, image in zip(capture_types, images):\n",
    "            rr_log_airgen_image(\"grid\", capture_name_map[capture_type], image[0])\n",
    "            image_group.create_dataset(capture_type, data=image[0])\n",
    "\n",
    "    if idx % 10 == 0:\n",
    "        print(f\"Saved {idx} frames\")"
   ]
  },
  {
   "cell_type": "code",
   "execution_count": null,
   "id": "61f7fef6-a27a-4129-8d52-d9e8dbadadbb",
   "metadata": {},
   "outputs": [],
   "source": [
    "import time\n",
    "\n",
    "# Example usage\n",
    "hdf5_file_path = os.path.join(GRID_USER_SESSION_BLOB_DIR, 'car_data.h5')\n",
    "start_time = time.time()\n",
    "\n",
    "# Apply speed commands to car\n",
    "airgen_car_0.client.setCarTargetSpeed(1.0)\n",
    "\n",
    "for i in range(50):\n",
    "    airgen_car_0.client.simPause(True)\n",
    "    capture_data(airgen_car_0.client, ['imu'], ['rgb', 'depth', 'segmentation'], hdf5_file_path, idx=i)\n",
    "    airgen_car_0.client.simPause(False)\n",
    "    time.sleep(0.1)\n",
    "\n",
    "airgen_car_0.client.setCarTargetSpeed(0.0)\n",
    "\n",
    "elapsed_time = time.time() - start_time\n",
    "print(f\"Total time taken: {elapsed_time:.2f} seconds\")"
   ]
  }
 ],
 "metadata": {
  "kernelspec": {
   "display_name": "Python 3 (ipykernel)",
   "language": "python",
   "name": "python3"
  },
  "language_info": {
   "codemirror_mode": {
    "name": "ipython",
    "version": 3
   },
   "file_extension": ".py",
   "mimetype": "text/x-python",
   "name": "python",
   "nbconvert_exporter": "python",
   "pygments_lexer": "ipython3",
   "version": "3.11.9"
  }
 },
 "nbformat": 4,
 "nbformat_minor": 5
}

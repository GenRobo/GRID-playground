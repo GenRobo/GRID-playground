{
 "cells": [
  {
   "cell_type": "code",
   "execution_count": null,
   "id": "ce6436d0",
   "metadata": {},
   "outputs": [],
   "source": [
    "from grid.robot.aerial.airgen_drone import AirGenDrone \n",
    "airgen_drone__0 = AirGenDrone()"
   ]
  },
  {
   "cell_type": "code",
   "execution_count": null,
   "id": "60860e65",
   "metadata": {},
   "outputs": [],
   "source": [
    "# Take off\n",
    "airgen_drone_0.client.takeoffAsync().join()\n",
    "\n",
    "# Move to an altitude of 25 meters\n",
    "airgen_drone_0.client.moveToZAsync(-25, 5).join()"
   ]
  },
  {
   "cell_type": "code",
   "execution_count": null,
   "id": "6a5615cd",
   "metadata": {},
   "outputs": [],
   "source": [
    "# Fly in a square path using velocity control\n",
    "\n",
    "airgen_drone_0.client.moveByVelocityAsync(5, 0, 0, 5).join()\n",
    "airgen_drone_0.client.moveByVelocityAsync(0, 5, 0, 5).join()\n",
    "airgen_drone_0.client.moveByVelocityAsync(-5, 0, 0, 5).join()\n",
    "airgen_drone_0.client.moveByVelocityAsync(0, -5, 0, 5).join()"
   ]
  },
  {
   "cell_type": "code",
   "execution_count": null,
   "id": "bdd52cc0",
   "metadata": {},
   "outputs": [],
   "source": [
    "# Fly in a square path using position control\n",
    "\n",
    "airgen_drone_0.client.moveToPositionAsync(25, 0, -25, 5).join()\n",
    "airgen_drone_0.client.moveToPositionAsync(25, 25, -25, 5).join()\n",
    "airgen_drone_0.client.moveToPositionAsync(0, 25, -25, 5).join()\n",
    "airgen_drone_0.client.moveToPositionAsync(0, 0, -25, 5).join()"
   ]
  },
  {
   "cell_type": "code",
   "execution_count": null,
   "metadata": {},
   "outputs": [],
   "source": [
    "# Fly in a square path using path control\n",
    "import airgen\n",
    "waypoints = [\n",
    "    airgen.Vector3r(25, 0, -25),\n",
    "    airgen.Vector3r(25, 25, -25),\n",
    "    airgen.Vector3r(0, 25, -25),\n",
    "    airgen.Vector3r(0, 0, -25),\n",
    "]\n",
    "\n",
    "airgen_drone_0.client.moveOnPathAsync(\n",
    "    waypoints, 5, 60, airgen.DrivetrainType.MaxDegreeOfFreedom, airgen.YawMode(False, 0), -1, 1,\n",
    ").join()"
   ]
  },
  {
   "cell_type": "code",
   "execution_count": null,
   "id": "6a166670",
   "metadata": {},
   "outputs": [],
   "source": [
    "# Fly in a square path with yaw angle relative to the direction of travel\n",
    "airgen_drone_0.client.moveOnPathAsync(\n",
    "    waypoints, 5, 60, airgen.DrivetrainType.ForwardOnly, airgen.YawMode(False, 0), -1, 1\n",
    ").join()"
   ]
  },
  {
   "cell_type": "code",
   "execution_count": null,
   "metadata": {},
   "outputs": [],
   "source": [
    "# Land\n",
    "airgen_drone_0.client.moveToZAsync(-2, 5).join()\n",
    "airgen_drone_0.client.landAsync().join()"
   ]
  },
  {
   "cell_type": "code",
   "execution_count": null,
   "id": "f593b301",
   "metadata": {},
   "outputs": [],
   "source": [
    "# plan a path in geo-typical environments\n",
    "import numpy as np\n",
    "nav_mesh_info = airgen_drone_0.client.getNavMeshInfo()\n",
    "# Get current pose of the drone in 6-DOF\n",
    "start_pose = airgen_drone_0.client.simGetVehiclePose()\n",
    "\n",
    "# Sample a random valid pose in the environment\n",
    "amplitude = (\n",
    "    np.absolute(\n",
    "        np.array(\n",
    "            [\n",
    "                nav_mesh_info[2][\"x_val\"] - nav_mesh_info[1][\"x_val\"],\n",
    "                nav_mesh_info[2][\"y_val\"] - nav_mesh_info[1][\"y_val\"],\n",
    "                nav_mesh_info[2][\"z_val\"] - nav_mesh_info[1][\"z_val\"],\n",
    "            ]\n",
    "        )\n",
    "    )\n",
    "    / 2.0\n",
    ")\n",
    "# sample a random point on the nav mesh\n",
    "random_point = airgen.Vector3r(\n",
    "    np.random.uniform(\n",
    "        nav_mesh_info[0][\"x_val\"] - amplitude[0],\n",
    "        nav_mesh_info[0][\"x_val\"] + amplitude[0],\n",
    "    ),\n",
    "    np.random.uniform(\n",
    "        nav_mesh_info[0][\"y_val\"] - amplitude[1],\n",
    "        nav_mesh_info[0][\"y_val\"] + amplitude[1],\n",
    "    ),\n",
    "    np.random.uniform(\n",
    "        nav_mesh_info[0][\"z_val\"] - amplitude[2],\n",
    "        nav_mesh_info[0][\"z_val\"] + amplitude[2],\n",
    "    ),\n",
    ")\n",
    "# sample a random yaw angle\n",
    "random_yaw = np.random.uniform(-np.pi, np.pi)\n",
    "goal_pose= airgen.Pose(\n",
    "            random_point, airgen.Quaternionr(airgen.Vector3r(0, 0, random_yaw))\n",
    "        )\n",
    "\n",
    "# Compute a collision-free path between start and goal\n",
    "trajectory = airgen_drone_0.client.simPlanPath(\n",
    "    start_pose.position, goal_pose.position, True, True\n",
    ")\n",
    "\n",
    "points = []\n",
    "for waypoint in trajectory:\n",
    "    points.append(\n",
    "        airgen.Vector3r(waypoint[\"x_val\"], waypoint[\"y_val\"], waypoint[\"z_val\"])\n",
    "    )\n",
    "\n",
    "# Move the drone along the planned path at a velocity of 5 m/s\n",
    "velocity = 5.0\n",
    "airgen_drone_0.client.moveOnPathAsync(\n",
    "    points,\n",
    "    velocity,\n",
    "    120,\n",
    "    airgen.DrivetrainType.ForwardOnly,\n",
    "    airgen.YawMode(False, 0),\n",
    "    -1,\n",
    "    0,\n",
    ").join()"
   ]
  }
 ],
 "metadata": {
  "language_info": {
   "name": "python"
  }
 },
 "nbformat": 4,
 "nbformat_minor": 5
}

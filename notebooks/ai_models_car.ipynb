{
 "cells": [
  {
   "cell_type": "code",
   "execution_count": null,
   "id": "d09473d9",
   "metadata": {},
   "outputs": [],
   "source": [
    "from grid.robot.wheeled.airgen_car import AirGenCar\n",
    "# initialise the robot\n",
    "import airgen\n",
    "from airgen.utils.collect import data_collector\n",
    "from airgen import WeatherParameter, Vector3r\n",
    "from typing import List, Tuple\n",
    "airgen_car_0 = AirGenCar()"
   ]
  },
  {
   "cell_type": "code",
   "execution_count": null,
   "id": "ed24e3c6",
   "metadata": {},
   "outputs": [],
   "source": [
    "# set the weather, wind, and timeofday parameters and import AI models\n",
    "from grid.model.perception.detection.gdino import GroundingDINO\n",
    "from grid.model.perception.segmentation.gsam2 import GSAM2\n",
    "\n",
    "detection = GroundingDINO()\n",
    "segmentation = GSAM2()\n",
    "\n",
    "client = airgen_car_0.client\n",
    "\n",
    "client.simEnableWeather(True)\n",
    "client.simSetWeatherParameter(WeatherParameter.Fog, 1.0) # adds fog to the scene\n",
    "client.simSetTimeOfDay(True, \"2024-07-22 17:00:00\") # sets the time of day to be around sunset"
   ]
  },
  {
   "cell_type": "code",
   "execution_count": null,
   "id": "a9282dfa",
   "metadata": {},
   "outputs": [],
   "source": [
    "search_radius = 50 # distance in meters\n",
    "path = client.simPlanPathToRandomFreePoint(search_radius, smooth_path=True, draw_path=True) # generates the trajectory of points\n",
    "\n",
    "points = []\n",
    "for point in path:\n",
    "    points.append(airgen.Vector3r(point['x_val'], point['y_val'], point['z_val']))"
   ]
  },
  {
   "cell_type": "code",
   "execution_count": null,
   "id": "1f06dd2e",
   "metadata": {},
   "outputs": [],
   "source": [
    "def runAIModels(client: airgen.VehicleClient) -> dict:\n",
    "    img, _ = client.getImages(\"front_center\",[airgen.ImageType.Scene])[0]\n",
    "    boxes, scores, labels = detection.run(img,\"car.\")\n",
    "    mask = segmentation.run(img,\"road\")\n",
    "    return img, boxes, scores, labels, mask"
   ]
  },
  {
   "cell_type": "code",
   "execution_count": null,
   "id": "a4f3372e",
   "metadata": {},
   "outputs": [],
   "source": [
    "@data_collector(runAIModels, time_delta=0.1)\n",
    "def move_task(\n",
    "    client: airgen.MultirotorClient, position: Tuple[float], **kwargs\n",
    ") -> None | Tuple[None, List[dict]]:\n",
    "    client.moveOnPath(points, velocity=5.0)\n",
    "\n",
    "img, boxes, scores, labels, mask = move_task(client, (0, 0, -10), _collect_data=True)"
   ]
  }
 ],
 "metadata": {
  "language_info": {
   "name": "python"
  }
 },
 "nbformat": 4,
 "nbformat_minor": 5
}

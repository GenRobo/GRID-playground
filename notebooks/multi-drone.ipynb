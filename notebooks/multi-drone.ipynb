{
 "cells": [
  {
   "cell_type": "code",
   "execution_count": null,
   "id": "527e3055-001e-4146-a656-cbb6a6d60c78",
   "metadata": {},
   "outputs": [],
   "source": [
    "import airgen\n",
    "from airgen.utils.collect import data_collector\n",
    "from typing import List, Tuple, Dict, Any, Optional, Callable\n",
    "\n",
    "drones = [airgen.MultirotorClient()] *5"
   ]
  },
  {
   "cell_type": "code",
   "execution_count": null,
   "id": "fa58e168-2b06-4c09-9b1d-5785a1703ee0",
   "metadata": {},
   "outputs": [],
   "source": [
    "num_drones = 5\n",
    "for i in range(num_drones):\n",
    "    drone_name = f\"Drone{i}\" if i>0 else \"Drone\"\n",
    "    drones[i].enableApiControl(True, vehicle_name=drone_name)\n",
    "    drones[i].takeoffAsync(vehicle_name=drone_name)"
   ]
  },
  {
   "cell_type": "code",
   "execution_count": null,
   "id": "54fa6780-75c0-4e76-99e9-89a3fa56b354",
   "metadata": {},
   "outputs": [],
   "source": [
    "drones[0].moveToPositionAsync(0, 10, -10, 5)"
   ]
  },
  {
   "cell_type": "code",
   "execution_count": null,
   "id": "86abba62-736a-4eb3-94ef-3573ff22004a",
   "metadata": {},
   "outputs": [],
   "source": [
    "from grid.model.perception.detection.gdino import GroundingDINO\n",
    "import warnings\n",
    "warnings.filterwarnings(\"ignore\")\n",
    "\n",
    "gdinomodel = GroundingDINO(use_local=True)\n",
    "img = drones[0].getImages(\"front_center\",[airgen.ImageType.Scene])[0][0]\n",
    "boxes, scores, labels = gdinomodel.run(img, \"substation .\")\n",
    "print(boxes, scores, labels)"
   ]
  },
  {
   "cell_type": "code",
   "execution_count": null,
   "id": "92c1d63c-da39-4c68-b679-7d8f4ebd75ce",
   "metadata": {},
   "outputs": [],
   "source": [
    "from grid.model.perception.vlm.llava import LLaVA\n",
    "import warnings\n",
    "warnings.filterwarnings(\"ignore\")\n",
    "\n",
    "\n",
    "llava = LLaVA(use_local = True)\n",
    "outputs = llava.run(img, \"What do you see?\")\n",
    "print(outputs)"
   ]
  },
  {
   "cell_type": "code",
   "execution_count": null,
   "id": "9c180e6b-9a36-478b-87a6-7a61ac082d62",
   "metadata": {},
   "outputs": [],
   "source": [
    "from grid.model.perception.depth.midas import MIDAS\n",
    "import warnings\n",
    "warnings.filterwarnings(\"ignore\")\n",
    "\n",
    "midas = MIDAS(use_local = True)\n",
    "depth = midas.run(img)\n",
    "print(\"Minimum depth value\", depth.min(), \"meters\")\n",
    "print(\"Maximum depth value\", depth.max(), \"meters\")"
   ]
  },
  {
   "cell_type": "code",
   "execution_count": null,
   "id": "a9ee8329-8d7e-4906-9157-9d1152da9a27",
   "metadata": {},
   "outputs": [],
   "source": [
    "num_episodes = 1\n",
    "import numpy as np\n",
    "\n",
    "x_bounds = (20, 50)  \n",
    "y_bounds = (30, 50)  \n",
    "num_values = 15     \n",
    "\n",
    "\n",
    "x_values = np.random.uniform(x_bounds[0], x_bounds[1], num_values)\n",
    "y_values = np.random.uniform(y_bounds[0], y_bounds[1], num_values)\n",
    "\n",
    "for i in range(num_episodes):\n",
    "    for i in range(num_drones):\n",
    "        drone_name = f\"Drone{i}\" if i>0 else \"Drone\"\n",
    "        drones[i].moveToPositionAsync(x_values[i], y_values[i], -10, 5, vehicle_name=drone_name)"
   ]
  },
  {
   "cell_type": "code",
   "execution_count": null,
   "id": "dff44187-e37b-493c-adfb-8f1b9f3d897a",
   "metadata": {},
   "outputs": [],
   "source": [
    "def readSensors(client: airgen.MultirotorClient(), drone_name: 'str') -> dict:\n",
    "    sensor_data = {}\n",
    "    img = client.getImages(\"front_center\",[airgen.ImageType.Scene], vehicle_name=drone_name)[0]\n",
    "    sensor_data['rgb'] = img\n",
    "    sensor_data['depth'] = midas.run(img[0])\n",
    "    sensor_data['annot'] = gdinomodel.run(img[0], \"windmill .\")\n",
    "    return sensor_data"
   ]
  },
  {
   "cell_type": "code",
   "execution_count": null,
   "id": "88aff9bc-59d7-4bb8-b594-66bd1ecd944b",
   "metadata": {},
   "outputs": [],
   "source": [
    "@data_collector(readSensors, time_delta=0.1)\n",
    "def move_task(\n",
    "    client: airgen.MultirotorClient, drone_name: 'str', position: Tuple[float], **kwargs\n",
    ") -> None | Tuple[None, List[dict]]:\n",
    "    client.moveToPositionAsync(position[0],position[1], position[2], position[3], vehicle_name=drone_name)\n",
    "\n",
    "import numpy as np\n",
    "\n",
    "x_bounds = (100, 50)  \n",
    "y_bounds = (100, 50)  \n",
    "num_values = 50     \n",
    "\n",
    "\n",
    "x_values = np.random.uniform(x_bounds[0], x_bounds[1], num_values)\n",
    "y_values = np.random.uniform(y_bounds[0], y_bounds[1], num_values)\n",
    "\n",
    "for i in range(num_drones):\n",
    "    drone_name = f\"Drone{i}\" if i>0 else \"Drone\"\n",
    "    _, sensor_data = move_task(drones[i], drone_name, (x_values[i], y_values[i], -10, 5), _collect_data=True)\n",
    "    \n",
    "for i, data in enumerate(sensor_data):\n",
    "    lidar = data[\"lidar\"]\n",
    "    rgb, _ = data[\"rgb\"]\n",
    "    rr.log(\"grid/imagery\",rr.Image(rgb))\n",
    "    rr.log(\"pointcloud\", rr.Points3D(np.array(lidar.point_cloud).reshape(-1, 3)))\n",
    "\n",
    "print(f\"collected {len(sensor_data)} measurements during moving task\")"
   ]
  }
 ],
 "metadata": {
  "kernelspec": {
   "display_name": "Python 3 (ipykernel)",
   "language": "python",
   "name": "python3"
  },
  "language_info": {
   "codemirror_mode": {
    "name": "ipython",
    "version": 3
   },
   "file_extension": ".py",
   "mimetype": "text/x-python",
   "name": "python",
   "nbconvert_exporter": "python",
   "pygments_lexer": "ipython3",
   "version": "3.11.5"
  }
 },
 "nbformat": 4,
 "nbformat_minor": 5
}

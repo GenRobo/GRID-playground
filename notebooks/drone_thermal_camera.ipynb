{
 "cells": [
  {
   "cell_type": "code",
   "execution_count": null,
   "id": "1561e743",
   "metadata": {},
   "outputs": [],
   "source": [
    "from grid.robot.aerial.airgen_drone import AirGenDrone \n",
    "airgen_drone__0 = AirGenDrone()"
   ]
  },
  {
   "cell_type": "code",
   "execution_count": null,
   "id": "de35f3bc",
   "metadata": {},
   "outputs": [],
   "source": [
    "from grid.utils.types import Position\n",
    "import numpy as np\n",
    "airgen_drone_0.takeoff()\n",
    "airgen_drone_0.moveToPosition(Position(0, 0, -25))\n",
    "airgen_drone_0.setYaw(np.deg2rad(-90))"
   ]
  },
  {
   "cell_type": "code",
   "execution_count": null,
   "id": "0baa40c4",
   "metadata": {},
   "outputs": [],
   "source": [
    "# Let's capture and display an infrared image\n",
    "import rerun as rr\n",
    "\n",
    "ir_image, camera_pose = airgen_drone_0.getImage(\"front_center\", image_type=\"infrared\")\n",
    "\n",
    "rr.log(\"infrared\", rr.Image(ir_image))\n"
   ]
  },
  {
   "cell_type": "code",
   "execution_count": null,
   "id": "f9db538a",
   "metadata": {},
   "outputs": [],
   "source": [
    "# Let's now make the fire the highest intensity in the infrared camera\n",
    "\n",
    "# Get a list of all objects in the scene with the name Fire*\n",
    "fire_obj_refs = airgen_drone_0.client.simListSceneObjects(\"Fire.*\")\n",
    "print(fire_obj_refs)\n",
    "\n",
    "fire_obj = fire_obj_refs[0]\n",
    "\n",
    "airgen_drone_0.client.simSetSegmentationObjectID(fire_obj, 255, True)\n"
   ]
  },
  {
   "cell_type": "code",
   "execution_count": null,
   "id": "9049bc5e",
   "metadata": {},
   "outputs": [],
   "source": [
    "# Capture and display an infrared image again\n",
    "ir_image, camera_pose = airgen_drone_0.getImage(\"front_center\", image_type=\"infrared\")\n",
    "\n",
    "rr.log(\"infrared_new\", rr.Image(ir_image))\n"
   ]
  }
 ],
 "metadata": {
  "language_info": {
   "name": "python"
  }
 },
 "nbformat": 4,
 "nbformat_minor": 5
}

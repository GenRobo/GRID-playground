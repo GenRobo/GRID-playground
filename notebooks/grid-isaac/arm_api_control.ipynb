{
 "cells": [
  {
   "cell_type": "code",
   "execution_count": null,
   "id": "e1d59b82",
   "metadata": {},
   "outputs": [],
   "source": [
    "from grid.robot.arm.isaac_arm import IsaacArm\n",
    "armisaacsim_0 = IsaacArm()"
   ]
  },
  {
   "cell_type": "code",
   "execution_count": null,
   "id": "524cb8bf",
   "metadata": {},
   "outputs": [],
   "source": [
    "armisaacsim_0.run()"
   ]
  },
  {
   "cell_type": "code",
   "execution_count": null,
   "id": "bed7d371",
   "metadata": {},
   "outputs": [],
   "source": [
    "import numpy as np\n",
    "\n",
    "goal_pos_np = np.array([0.3, -0.2, 0.3])\n",
    "goal_quat_np = np.array([0.0, 0.0, 0.0, 1.0])  # Assuming quaternion interpolation isn't needed\n",
    "threshold = 0.01  # Define a threshold for stopping\n",
    "step_size = 0.01  # Define a step size for movement"
   ]
  },
  {
   "cell_type": "code",
   "execution_count": null,
   "id": "3d76e644",
   "metadata": {},
   "outputs": [],
   "source": [
    "from grid.utils.types import Position, Orientation\n",
    "from grid.utils import log\n",
    "\n",
    "import time\n",
    "\n",
    "while True:\n",
    "    curr_pos = armisaacsim_0.getPosition()\n",
    "    curr_rot = armisaacsim_0.getOrientation()\n",
    "    # print (f'Current Position: {curr_pos}') \n",
    "\n",
    "    img = armisaacsim_0.getImage()\n",
    "\n",
    "    if img is not None and img.data is not None:\n",
    "        log(\"grid/rgb\", img)\n",
    "    \n",
    "    if curr_pos is None or curr_rot is None:\n",
    "        time.sleep(0.2)\n",
    "        continue\n",
    "\n",
    "    curr_pos_np = np.array([curr_pos.x_val, curr_pos.y_val, curr_pos.z_val])\n",
    "    \n",
    "    # Calculate the Euclidean distance to the goal\n",
    "    distance = np.linalg.norm(goal_pos_np[:2] - curr_pos_np[:2])\n",
    "    # print(f'Current Distance to Goal: {distance}')\n",
    "    \n",
    "    if distance < threshold:\n",
    "        print(\"Goal x, y reached!\")\n",
    "        break\n",
    "    \n",
    "    # Compute delta position\n",
    "    direction = (goal_pos_np - curr_pos_np) / distance  # Normalize direction\n",
    "    delta_pos = direction * step_size  # Move step_size or remaining distance\n",
    "    \n",
    "    # Move towards the goal with delta position\n",
    "    armisaacsim_0.moveToDeltaPose(Position(delta_pos[0], delta_pos[1], 0), Orientation(*goal_quat_np))\n",
    "    time.sleep(0.2)\n",
    "\n",
    "\n",
    "armisaacsim_0.release()\n",
    "\n",
    "while True:\n",
    "    curr_pos = armisaacsim_0.getPosition()\n",
    "    curr_rot = armisaacsim_0.getOrientation()\n",
    "    # print (f'Current Position: {curr_pos}')\n",
    "\n",
    "    img = armisaacsim_0.getImage()\n",
    "\n",
    "    if img is not None and img.data is not None:\n",
    "        log(\"grid/rgb\", img)\n",
    "    \n",
    "    if curr_pos is None or curr_rot is None:\n",
    "        time.sleep(0.2)\n",
    "        continue\n",
    "\n",
    "    curr_pos_np = np.array([curr_pos.x_val, curr_pos.y_val, curr_pos.z_val])\n",
    "    \n",
    "    # Calculate the Euclidean distance to the goal\n",
    "    distance = np.linalg.norm(goal_pos_np[2] - curr_pos_np[2])\n",
    "    # print(f'Current Distance to Goal: {distance}')\n",
    "    \n",
    "    if distance < threshold:\n",
    "        print(\"Goal z reached!\")\n",
    "        break\n",
    "    \n",
    "    # Compute delta position\n",
    "    direction = (goal_pos_np - curr_pos_np) / distance  # Normalize direction\n",
    "    delta_pos = direction * step_size  # Move step_size or remaining distance\n",
    "    \n",
    "    # Move towards the goal with delta position\n",
    "    armisaacsim_0.moveToDeltaPose(Position(0, 0, delta_pos[2]), Orientation(*goal_quat_np))\n",
    "    time.sleep(0.2)\n"
   ]
  }
 ],
 "metadata": {
  "language_info": {
   "name": "python"
  }
 },
 "nbformat": 4,
 "nbformat_minor": 5
}

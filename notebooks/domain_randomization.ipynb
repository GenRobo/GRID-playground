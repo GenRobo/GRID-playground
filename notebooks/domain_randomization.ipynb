{
 "cells": [
  {
   "cell_type": "code",
   "execution_count": null,
   "id": "fd3273cf",
   "metadata": {},
   "outputs": [],
   "source": [
    "from grid.robot.wheeled.airgen_car import AirGenCar\n",
    "airgen_car_0 = AirGenCar()"
   ]
  },
  {
   "cell_type": "code",
   "execution_count": null,
   "id": "be65761b",
   "metadata": {},
   "outputs": [],
   "source": [
    "import airgen\n",
    "\n",
    "airgen_car_0.client.simListAssets()\n",
    "\n",
    "pose = airgen_car_0.client.simGetVehiclePose()\n",
    "pose_obj = pose\n",
    "pose_obj.position.x_val -= 10\n",
    "\n",
    "airgen_car_0.client.simSpawnObject(\"Car_New\", \"Car_01\", pose_obj, airgen.Vector3r(1, 1, 1), True, False)"
   ]
  },
  {
   "cell_type": "code",
   "execution_count": null,
   "id": "d2d98ac6",
   "metadata": {},
   "outputs": [],
   "source": [
    "curr_pose = airgen_car_0.client.simGetObjectPose(\"Car_New\")\n",
    "new_pose = curr_pose\n",
    "new_pose.position.x_val = curr_pose.position.x_val - 20\n",
    "airgen_car_0.client.simSetObjectPose(\"Car_New\", new_pose)"
   ]
  },
  {
   "cell_type": "code",
   "execution_count": null,
   "id": "1895eba0",
   "metadata": {},
   "outputs": [],
   "source": [
    "airgen_car_0.client.simSetTimeOfDay(True, \"2024-07-11 22:00:00\")"
   ]
  },
  {
   "cell_type": "code",
   "execution_count": null,
   "id": "cfb64be8",
   "metadata": {},
   "outputs": [
    {
     "data": {
      "text/plain": [
       "True"
      ]
     },
     "execution_count": 1,
     "metadata": {},
     "output_type": "execute_result"
    }
   ],
   "source": [
    "texture_path = \"/mnt/azure_blobfuse_mount/user/sessions/663b8240-f6c5-4e85-95ba-5d7ad5afdadf/sample_texture.jpg\"\n",
    "airgen_car_0.client.simSetObjectMaterialFromTexture('Car_56', texture_path)"
   ]
  },
  {
   "cell_type": "code",
   "execution_count": null,
   "id": "eb6327fc",
   "metadata": {},
   "outputs": [],
   "source": [
    "from grid.model.perception.detection.gdino import GroundingDINO\n",
    "from grid.model.perception.segmentation.clipseg import CLIPSeg\n",
    "detection_gdino_0 = GroundingDINO()\n",
    "seg_clipseg_0 = CLIPSeg()\n",
    "\n",
    "# Define a detect function that captures an RGB image from the front camera and uses an object detector\n",
    "\n",
    "def detect(client, object_name=\"car\"):\n",
    "    rgb_image, pose = client.getImages(\"front_center\", [airgen.ImageType.Scene])[0]\n",
    "    boxes, phrases = groundingdino.detect_object(rgb_image, object_name)\n",
    "    return boxes, phrases\n",
    "\n",
    "\n",
    "def segment(client, object_name=\"car\"):\n",
    "    rgb_image, pose = client.getImages(\"front_center\", [airgen.ImageType.Scene])[0]\n",
    "    result = clipseg.segment_image(rgb_image, object_name)\n",
    "    return result"
   ]
  },
  {
   "cell_type": "code",
   "execution_count": null,
   "id": "f19795bf",
   "metadata": {},
   "outputs": [],
   "source": [
    "# Let's evaluate the vision models with some weather variations to the scene\n",
    "import time\n",
    "airgen_car_0.client.simEnableWeather(True)\n",
    "\n",
    "for i in range(10):\n",
    "    airgen_car_0.client.simSetWeatherParameter(airgen.WeatherParameter.Rain, i / 10)\n",
    "    airgen_car_0.client.simSetWeatherParameter(airgen.WeatherParameter.Fog, i / 10)\n",
    "    detect(airgen_car_0.client)\n",
    "    segment(airgen_car_0.client)\n",
    "    time.sleep(1)"
   ]
  }
 ],
 "metadata": {
  "language_info": {
   "name": "python"
  }
 },
 "nbformat": 4,
 "nbformat_minor": 5
}

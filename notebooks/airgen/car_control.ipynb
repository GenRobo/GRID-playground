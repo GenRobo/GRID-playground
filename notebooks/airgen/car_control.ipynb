{
 "cells": [
  {
   "cell_type": "code",
   "execution_count": null,
   "id": "60860e65",
   "metadata": {},
   "outputs": [],
   "source": [
    "import airgen\n",
    "import time\n",
    "# get car state \n",
    "car_state = airgen_car_0.client.getCarState()\n",
    "\n",
    "airgen_car_0.client.enableCarSpeedControl(False)\n",
    "\n",
    "# control the car\n",
    "car_controls = airgen.CarControls()\n",
    "car_controls.throttle=0.5\n",
    "car_controls.steering=0.0\n",
    "airgen_car_0.client.setCarControls(car_controls)\n",
    "print(\"Going forward...\")\n",
    "time.sleep(3)   # Let car drive a bit\n",
    "print(\"Stopping...\")\n",
    "airgen_car_0.client.setCarControls(airgen.CarControls())\n"
   ]
  },
  {
   "cell_type": "code",
   "execution_count": null,
   "id": "f7f4dd0b",
   "metadata": {},
   "outputs": [],
   "source": [
    "## more controls\n",
    "# Go forward + steer right\n",
    "car_controls.throttle = 0.5\n",
    "car_controls.steering = 1\n",
    "airgen_car_0.client.setCarControls(car_controls)\n",
    "print(\"Going forward, steering right\")\n",
    "time.sleep(3)  # Let car drive a bit\n",
    "print(\"Stopping...\")\n",
    "airgen_car_0.client.setCarControls(airgen.CarControls())"
   ]
  },
  {
   "cell_type": "code",
   "execution_count": null,
   "id": "dc32c5eb",
   "metadata": {},
   "outputs": [],
   "source": [
    "# go reverse\n",
    "car_controls.throttle = 0.5\n",
    "car_controls.is_manual_gear = True\n",
    "car_controls.manual_gear = -1\n",
    "car_controls.steering = 0\n",
    "airgen_car_0.client.setCarControls(car_controls)\n",
    "print(\"Going reverse...\")\n",
    "time.sleep(3)  # Let car drive a bit\n"
   ]
  },
  {
   "cell_type": "code",
   "execution_count": null,
   "id": "2afe8fe5",
   "metadata": {},
   "outputs": [],
   "source": [
    "# Apply brakes\n",
    "car_controls.is_manual_gear = False # Change back gear to auto\n",
    "car_controls.manual_gear = 0\n",
    "car_controls.throttle = 0\n",
    "car_controls.brake = 1\n",
    "airgen_car_0.client.setCarControls(car_controls)\n",
    "print(\"Applying brakes...\")\n",
    "time.sleep(3)   # Let car drive a bit\n",
    "car_controls.brake = 0 # Remove brake"
   ]
  }
 ],
 "metadata": {
  "kernelspec": {
   "display_name": "dev",
   "language": "python",
   "name": "python3"
  },
  "language_info": {
   "codemirror_mode": {
    "name": "ipython",
    "version": 3
   },
   "file_extension": ".py",
   "mimetype": "text/x-python",
   "name": "python",
   "nbconvert_exporter": "python",
   "pygments_lexer": "ipython3",
   "version": "3.11.7"
  }
 },
 "nbformat": 4,
 "nbformat_minor": 5
}

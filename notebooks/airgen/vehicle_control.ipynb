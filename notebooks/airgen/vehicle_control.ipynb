{
 "cells": [
  {
   "cell_type": "code",
   "execution_count": 19,
   "id": "7bc7b7af",
   "metadata": {},
   "outputs": [
    {
     "name": "stdout",
     "output_type": "stream",
     "text": [
      "Connected!\n",
      "Client Ver:1 (Min Req: 1), Server Ver:1 (Min Req: 1)\n",
      "\n"
     ]
    }
   ],
   "source": [
    "from grid.robot.airgen_vehicle import AirGenVehicle\n",
    "airgen_vehicle_0 = AirGenVehicle()"
   ]
  },
  {
   "cell_type": "code",
   "execution_count": 20,
   "id": "5a4121ef",
   "metadata": {},
   "outputs": [
    {
     "name": "stdout",
     "output_type": "stream",
     "text": [
      "current pose <Pose> {   'orientation': <Quaternionr> {   'w_val': 0.6620137691497803,\n",
      "    'x_val': -0.630634069442749,\n",
      "    'y_val': 0.2864948809146881,\n",
      "    'z_val': -0.28628501296043396},\n",
      "    'position': <Vector3r> {   'x_val': 110.16702270507812,\n",
      "    'y_val': 16.084627151489258,\n",
      "    'z_val': -0.8202161192893982}}\n"
     ]
    }
   ],
   "source": [
    "pose = airgen_vehicle_0.client.simGetVehiclePose()\n",
    "\n",
    "# Move to an altitude of 25 meters\n",
    "print(\"current pose\", pose)"
   ]
  },
  {
   "cell_type": "code",
   "execution_count": 22,
   "id": "60860e65",
   "metadata": {},
   "outputs": [],
   "source": [
    "pose.position.z_val = -25\n",
    "pose.position.x_val = 100\n",
    "airgen_vehicle_0.client.simSetVehiclePose(pose, ignore_collision=True).join()"
   ]
  }
 ],
 "metadata": {
  "kernelspec": {
   "display_name": "dev",
   "language": "python",
   "name": "python3"
  },
  "language_info": {
   "codemirror_mode": {
    "name": "ipython",
    "version": 3
   },
   "file_extension": ".py",
   "mimetype": "text/x-python",
   "name": "python",
   "nbconvert_exporter": "python",
   "pygments_lexer": "ipython3",
   "version": "3.11.7"
  }
 },
 "nbformat": 4,
 "nbformat_minor": 5
}

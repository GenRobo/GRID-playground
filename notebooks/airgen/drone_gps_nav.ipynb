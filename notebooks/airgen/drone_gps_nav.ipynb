{
 "cells": [
  {
   "cell_type": "code",
   "execution_count": null,
   "id": "0416c8cd",
   "metadata": {},
   "outputs": [],
   "source": [
    "\n",
    "# Take off\n",
    "airgen_drone_0.client.takeoffAsync().join()"
   ]
  },
  {
   "cell_type": "code",
   "execution_count": null,
   "id": "17dafaea",
   "metadata": {},
   "outputs": [],
   "source": [
    "# Teleport vehicle to a GPS position (in the vicinity of Seattle)\n",
    "import airgen\n",
    "geopose = airgen.GeoPose(\n",
    "    airgen.GeoPoint(47.61967073130296, -122.35028344435351, 60), airgen.Quaternionr()\n",
    ")\n",
    "airgen_drone_0.client.simSetVehicleGeoPose(geopose, True)\n",
    "\n",
    "# Takeoff\n",
    "airgen_drone_0.client.takeoffAsync().join()\n",
    "print(airgen_drone_0.client.getGpsData())"
   ]
  },
  {
   "cell_type": "code",
   "execution_count": null,
   "id": "669843c4",
   "metadata": {},
   "outputs": [],
   "source": [
    "# fly to a GPS position\n",
    "import airgen\n",
    "from functools import partial\n",
    "\n",
    "goal = airgen.GeoPoint(47.62019363630756, -122.35158563162173, 60)\n",
    "airgen_drone_0.client.moveToGPSAsync(\n",
    "    goal,\n",
    "    4.0,\n",
    "    timeout_sec=3e38,\n",
    "    drivetrain=airgen.DrivetrainType.ForwardOnly,\n",
    "    yaw_mode=airgen.YawMode(False, 0),\n",
    "    ).join()\n",
    "print(airgen_drone_0.client.getGpsData())"
   ]
  }
 ],
 "metadata": {
  "kernelspec": {
   "display_name": "grid",
   "language": "python",
   "name": "python3"
  },
  "language_info": {
   "codemirror_mode": {
    "name": "ipython",
    "version": 3
   },
   "file_extension": ".py",
   "mimetype": "text/x-python",
   "name": "python",
   "nbconvert_exporter": "python",
   "pygments_lexer": "ipython3",
   "version": "3.11.7"
  }
 },
 "nbformat": 4,
 "nbformat_minor": 5
}

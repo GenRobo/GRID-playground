{
 "cells": [
  {
   "cell_type": "code",
   "execution_count": 1,
   "id": "802b10c5-ed83-41f9-a67b-5ef1477fc16b",
   "metadata": {},
   "outputs": [
    {
     "ename": "ModuleNotFoundError",
     "evalue": "No module named 'h5py'",
     "output_type": "error",
     "traceback": [
      "\u001b[0;31m---------------------------------------------------------------------------\u001b[0m",
      "\u001b[0;31mModuleNotFoundError\u001b[0m                       Traceback (most recent call last)",
      "Cell \u001b[0;32mIn[1], line 1\u001b[0m\n\u001b[0;32m----> 1\u001b[0m \u001b[38;5;28;01mimport\u001b[39;00m \u001b[38;5;21;01mh5py\u001b[39;00m\u001b[38;5;241m,\u001b[39m \u001b[38;5;21;01mos\u001b[39;00m\n\u001b[1;32m      2\u001b[0m \u001b[38;5;28;01mfrom\u001b[39;00m \u001b[38;5;21;01mtyping\u001b[39;00m \u001b[38;5;28;01mimport\u001b[39;00m List\n\u001b[1;32m      3\u001b[0m \u001b[38;5;28;01mfrom\u001b[39;00m \u001b[38;5;21;01mairgen\u001b[39;00m \u001b[38;5;28;01mimport\u001b[39;00m ImageType, VehicleClient\n",
      "\u001b[0;31mModuleNotFoundError\u001b[0m: No module named 'h5py'"
     ]
    }
   ],
   "source": [
    "import h5py, os\n",
    "from typing import List\n",
    "from airgen import ImageType, VehicleClient\n",
    "from airgen.utils.visualize import rr_log_airgen_image\n",
    "from grid import GRID_USER_SESSION_BLOB_DIR\n",
    "\n",
    "\n",
    "def capture_data(car: VehicleClient, sensor_types: List[str], capture_types: List[str], hdf5_file_path: str, idx=0):\n",
    "    with h5py.File(hdf5_file_path, 'a') as hdf5_file:\n",
    "        frame_group = hdf5_file.create_group(f\"frame_{idx}\")\n",
    "        sensor_group = frame_group.create_group(\"sensor_data\")\n",
    "        image_group = frame_group.create_group(\"image_data\")\n",
    "\n",
    "        capture_name_map = {\n",
    "            \"rgb\": ImageType.Scene, \n",
    "            \"depth\": ImageType.DepthPerspective, \n",
    "            \"segmentation\": ImageType.Segmentation\n",
    "        }\n",
    "        \n",
    "        # Capture IMU data\n",
    "        if \"imu\" in sensor_types:\n",
    "            imu_data = car.getImuData()\n",
    "            imu_group = sensor_group.create_group(\"imu\")\n",
    "            imu_group.create_dataset(\"time_stamp\", data=imu_data.time_stamp)\n",
    "            imu_group.create_dataset(\"orientation\", data=[\n",
    "                imu_data.orientation.w_val, \n",
    "                imu_data.orientation.x_val, \n",
    "                imu_data.orientation.y_val, \n",
    "                imu_data.orientation.z_val\n",
    "            ])\n",
    "            imu_group.create_dataset(\"angular_velocity\", data=[\n",
    "                imu_data.angular_velocity.x_val, \n",
    "                imu_data.angular_velocity.y_val, \n",
    "                imu_data.angular_velocity.z_val\n",
    "            ])\n",
    "            imu_group.create_dataset(\"linear_acceleration\", data=[\n",
    "                imu_data.linear_acceleration.x_val, \n",
    "                imu_data.linear_acceleration.y_val, \n",
    "                imu_data.linear_acceleration.z_val\n",
    "            ])\n",
    "        \n",
    "        # Capture image data\n",
    "        image_types = [capture_name_map[capture_type] for capture_type in capture_types]\n",
    "        images = car.getImages(\"front_center\", image_types)\n",
    "        \n",
    "        for capture_type, image in zip(capture_types, images):\n",
    "            rr_log_airgen_image(\"grid\", capture_name_map[capture_type], image[0])\n",
    "            image_group.create_dataset(capture_type, data=image[0])\n",
    "\n",
    "    if idx % 10 == 0:\n",
    "        print(f\"Saved {idx} frames\")"
   ]
  },
  {
   "cell_type": "code",
   "execution_count": 2,
   "id": "61f7fef6-a27a-4129-8d52-d9e8dbadadbb",
   "metadata": {},
   "outputs": [
    {
     "ename": "NameError",
     "evalue": "name 'os' is not defined",
     "output_type": "error",
     "traceback": [
      "\u001b[0;31m---------------------------------------------------------------------------\u001b[0m",
      "\u001b[0;31mNameError\u001b[0m                                 Traceback (most recent call last)",
      "Cell \u001b[0;32mIn[2], line 4\u001b[0m\n\u001b[1;32m      1\u001b[0m \u001b[38;5;28;01mimport\u001b[39;00m \u001b[38;5;21;01mtime\u001b[39;00m\n\u001b[1;32m      3\u001b[0m \u001b[38;5;66;03m# Example usage\u001b[39;00m\n\u001b[0;32m----> 4\u001b[0m hdf5_file_path \u001b[38;5;241m=\u001b[39m \u001b[43mos\u001b[49m\u001b[38;5;241m.\u001b[39mpath\u001b[38;5;241m.\u001b[39mjoin(GRID_USER_SESSION_BLOB_DIR, \u001b[38;5;124m'\u001b[39m\u001b[38;5;124mcar_data.h5\u001b[39m\u001b[38;5;124m'\u001b[39m)\n\u001b[1;32m      5\u001b[0m start_time \u001b[38;5;241m=\u001b[39m time\u001b[38;5;241m.\u001b[39mtime()\n\u001b[1;32m      7\u001b[0m \u001b[38;5;66;03m# Apply speed commands to car\u001b[39;00m\n",
      "\u001b[0;31mNameError\u001b[0m: name 'os' is not defined"
     ]
    }
   ],
   "source": [
    "import time\n",
    "\n",
    "# Example usage\n",
    "hdf5_file_path = os.path.join(GRID_USER_SESSION_BLOB_DIR, 'car_data.h5')\n",
    "start_time = time.time()\n",
    "\n",
    "# Apply speed commands to car\n",
    "airgen_car_0.client.setCarTargetSpeed(1.0)\n",
    "\n",
    "for i in range(50):\n",
    "    airgen_car_0.client.simPause(True)\n",
    "    capture_data(airgen_car_0.client, ['imu'], ['rgb', 'depth', 'segmentation'], hdf5_file_path, idx=i)\n",
    "    airgen_car_0.client.simPause(False)\n",
    "    time.sleep(0.1)\n",
    "\n",
    "airgen_car_0.client.setCarTargetSpeed(0.0)\n",
    "\n",
    "elapsed_time = time.time() - start_time\n",
    "print(f\"Total time taken: {elapsed_time:.2f} seconds\")"
   ]
  },
  {
   "cell_type": "code",
   "execution_count": null,
   "id": "471804b7-8da0-473a-9ddb-1b0ef6744c6e",
   "metadata": {},
   "outputs": [],
   "source": []
  }
 ],
 "metadata": {
  "kernelspec": {
   "display_name": "Python 3 (ipykernel)",
   "language": "python",
   "name": "python3"
  },
  "language_info": {
   "codemirror_mode": {
    "name": "ipython",
    "version": 3
   },
   "file_extension": ".py",
   "mimetype": "text/x-python",
   "name": "python",
   "nbconvert_exporter": "python",
   "pygments_lexer": "ipython3",
   "version": "3.11.9"
  }
 },
 "nbformat": 4,
 "nbformat_minor": 5
}

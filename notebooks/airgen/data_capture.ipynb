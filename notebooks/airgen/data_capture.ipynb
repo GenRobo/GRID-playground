{
 "cells": [
  {
   "cell_type": "code",
   "execution_count": null,
   "id": "3b4cb271",
   "metadata": {},
   "outputs": [],
   "source": [
    "\n",
    "# Take off\n",
    "airgen_drone_0.client.takeoffAsync().join()"
   ]
  },
  {
   "cell_type": "code",
   "execution_count": null,
   "id": "40599a90",
   "metadata": {},
   "outputs": [],
   "source": [
    "# define sensor and image collection function\n",
    "from typing import List, Literal\n",
    "from airgen import ImageType, VehicleClient\n",
    "from airgen.utils.visualize import rr_log_airgen_image\n",
    "\n",
    "def data_capture(drone: VehicleClient, sensor_types: List[str], capture_types: Literal['rgb', 'depth', 'segmentation']):\n",
    "    frame_data = {\"sensor_data\": {}, \"image_data\": {}}\n",
    "    capture_name_map = {\"rgb\": ImageType.Scene, \"depth\": ImageType.DepthPerspective, \"segmentation\": ImageType.Segmentation}\n",
    "\n",
    "    # get sensor data\n",
    "    for sensor_name in sensor_types:\n",
    "        if sensor_name == \"imu\":\n",
    "            frame_data[\"sensor_data\"][sensor_name] = drone.getImuData()\n",
    "        elif sensor_name == \"gps\":\n",
    "            frame_data[\"sensor_data\"][sensor_name] = drone.getGpsData()\n",
    "        else:\n",
    "            raise ValueError(f\"Unknown sensor name: {sensor_name}\")\n",
    "    image_types = [capture_name_map[capture_type] for capture_type in capture_types]\n",
    "    images = drone.getImages(\"front_center\", image_types)\n",
    "\n",
    "    # Received data is a tuple of the image and the corresponding pose\n",
    "    for (capture_type, image) in zip(capture_types, images):\n",
    "        frame_data[\"image_data\"][capture_type] = image[0]\n",
    "        rr_log_airgen_image(\"grid\", capture_name_map[capture_type], image[0])\n",
    "    return frame_data\n",
    "\n",
    "data = data_capture(airgen_drone_0.client, ['imu', 'gps'], ['rgb', 'depth', 'segmentation'])"
   ]
  },
  {
   "cell_type": "code",
   "execution_count": null,
   "id": "fc89dad2",
   "metadata": {},
   "outputs": [],
   "source": [
    "# save collected data to blob storage\n",
    "import json\n",
    "import numpy as np\n",
    "def serialize_to_dict(obj):\n",
    "    if isinstance(obj, np.ndarray):\n",
    "        return obj.tolist()\n",
    "    if hasattr(obj, \"__dict__\"):\n",
    "        return obj.__dict__\n",
    "    else:\n",
    "        raise TypeError(f\"Object of type {type(obj)} is not serializable\")\n",
    "data_str = json.dumps(data, default=serialize_to_dict, ensure_ascii=False, indent=4)\n",
    "\n",
    "import os\n",
    "from grid import GRID_USER_SESSION_BLOB_DIR\n",
    "# any file in the directory of GRID_USER_SESSION_BLOB_DIR will be uploaded to the blob storage\n",
    "file_path = os.path.join(GRID_USER_SESSION_BLOB_DIR, 'data_collection_sim.json')\n",
    "with open(file_path, 'w') as f:\n",
    "    f.write(data_str)"
   ]
  }
 ],
 "metadata": {
  "kernelspec": {
   "display_name": "grid",
   "language": "python",
   "name": "python3"
  },
  "language_info": {
   "codemirror_mode": {
    "name": "ipython",
    "version": 3
   },
   "file_extension": ".py",
   "mimetype": "text/x-python",
   "name": "python",
   "nbconvert_exporter": "python",
   "pygments_lexer": "ipython3",
   "version": "3.11.7"
  }
 },
 "nbformat": 4,
 "nbformat_minor": 5
}

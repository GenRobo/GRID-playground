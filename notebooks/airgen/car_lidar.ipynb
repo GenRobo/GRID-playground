{
 "cells": [
  {
   "cell_type": "code",
   "execution_count": null,
   "id": "1ce1d815",
   "metadata": {},
   "outputs": [],
   "source": [
    "import rerun as rr\n",
    "import numpy as np\n",
    "\n",
    "def capture_lidar_and_display():\n",
    "    lidarData = airgen_car_0.client.getLidarData()\n",
    "\n",
    "    points = np.array(lidarData.point_cloud, dtype=np.dtype('f4'))\n",
    "    points = np.reshape(points, (int(points.shape[0]/3), 3))\n",
    "\n",
    "    rr.log(\"grid/point_cloud\", rr.Points3D(points))"
   ]
  },
  {
   "cell_type": "code",
   "execution_count": null,
   "id": "dd079c32",
   "metadata": {},
   "outputs": [],
   "source": [
    "import airgen, time\n",
    "\n",
    "car_controls = airgen.CarControls()\n",
    "\n",
    "car_controls.throttle = 0.5\n",
    "car_controls.steering = 0\n",
    "airgen_car_0.client.setCarControls(car_controls)\n",
    "\n",
    "for i in range(30):\n",
    "    capture_lidar_and_display()\n",
    "    time.sleep(0.1)   \n",
    "\n",
    "airgen_car_0.client.setCarControls(airgen.CarControls())"
   ]
  }
 ],
 "metadata": {
  "language_info": {
   "name": "python"
  }
 },
 "nbformat": 4,
 "nbformat_minor": 5
}

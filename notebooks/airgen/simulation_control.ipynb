{
 "cells": [
  {
   "cell_type": "code",
   "execution_count": null,
   "id": "abdb3e3c",
   "metadata": {},
   "outputs": [],
   "source": [
    "import airgen\n",
    "\n",
    "sim_client = airgen.VehicleClient()\n",
    "\n",
    "# Let's try to place a Cube 10 meters in front of the robot\n",
    "pose = sim_client.simGetVehiclePose()\n",
    "pose_obj = pose\n",
    "pose_obj.position.x_val += 10\n",
    "\n",
    "# Spawn the object\n",
    "sim_client.simSpawnObject(\"Cube_New\", \"Cube\", pose_obj, airgen.Vector3r(2, 2, 2), True, False)"
   ]
  },
  {
   "cell_type": "code",
   "execution_count": null,
   "id": "aa0df1fd",
   "metadata": {},
   "outputs": [],
   "source": [
    "# Get the 3D position and orientation of the newly spawned object\n",
    "curr_pose = sim_client.simGetObjectPose(\"Cube_New\")\n",
    "new_pose = curr_pose\n",
    "\n",
    "# Move the object 20 meters in front of the robot\n",
    "new_pose.position.x_val = curr_pose.position.x_val + 20\n",
    "sim_client.simSetObjectPose(\"Cube_New\", new_pose)"
   ]
  },
  {
   "cell_type": "code",
   "execution_count": null,
   "id": "2eca391b",
   "metadata": {},
   "outputs": [],
   "source": [
    "# Get the scale of the object\n",
    "curr_scale = sim_client.simGetObjectScale(\"Cube_New\")\n",
    "print(curr_scale)\n",
    "\n",
    "# Make the object 5x bigger\n",
    "sim_client.simSetObjectScale(\"Cube_New\", airgen.Vector3r(10, 10, 10))"
   ]
  },
  {
   "cell_type": "code",
   "execution_count": null,
   "id": "6388e1fa",
   "metadata": {},
   "outputs": [],
   "source": [
    "# Destroy the object\n",
    "sim_client.simDestroyObject(\"Cube_New\")"
   ]
  },
  {
   "cell_type": "code",
   "execution_count": null,
   "id": "b0866e28",
   "metadata": {},
   "outputs": [],
   "source": [
    "# Change the time of day to 10 PM\n",
    "sim_client.simSetTimeOfDay(True, \"2024-07-11 22:00:00\")"
   ]
  }
 ],
 "metadata": {
  "language_info": {
   "name": "python"
  }
 },
 "nbformat": 4,
 "nbformat_minor": 5
}

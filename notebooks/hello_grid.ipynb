{
 "cells": [
  {
   "cell_type": "code",
   "execution_count": null,
   "metadata": {
    "vscode": {
     "languageId": "plaintext"
    }
   },
   "outputs": [],
   "source": [
    "\n",
    "import rerun as rr\n",
    "import airgen\n",
    "import time\n",
    "client = airgen_car_0.client\n",
    "client.enableApiControl(True)\n",
    "client.setCarTargetSpeed(5)\n",
    "time.sleep(10)\n",
    "client.setCarTargetSpeed(0)\n",
    "image = client.getImages(\"front_center\", [0])\n",
    "rr.log(\"Scene\", rr.Image(image[0][0]))"
   ]
  },
  {
   "cell_type": "code",
   "execution_count": null,
   "metadata": {
    "vscode": {
     "languageId": "plaintext"
    }
   },
   "outputs": [],
   "source": [
    "road = seg_gsam_0.run(image[0][0], \"road\")"
   ]
  },
  {
   "cell_type": "code",
   "execution_count": null,
   "metadata": {
    "vscode": {
     "languageId": "plaintext"
    }
   },
   "outputs": [],
   "source": [
    "image_new = client.getImages(\"back_center\", [0])\n",
    "rr.log(\"Car\", rr.Image(image_new[0][0]))"
   ]
  },
  {
   "cell_type": "code",
   "execution_count": null,
   "metadata": {
    "vscode": {
     "languageId": "plaintext"
    }
   },
   "outputs": [],
   "source": [
    "car = seg_gsam_0.run(image_new[0][0], \"car\")"
   ]
  },
  {
   "cell_type": "code",
   "execution_count": null,
   "metadata": {
    "vscode": {
     "languageId": "plaintext"
    }
   },
   "outputs": [],
   "source": [
    "client.setCarTargetSpeed(5)\n",
    "while True:\n",
    "    if client.simGetVehiclePose().position.x_val <= -120:\n",
    "        client.setCarTargetSpeed(0)\n",
    "        break\n",
    "print(client.simGetVehiclePose().position)"
   ]
  },
  {
   "cell_type": "code",
   "execution_count": null,
   "metadata": {
    "vscode": {
     "languageId": "plaintext"
    }
   },
   "outputs": [],
   "source": [
    "controls = client.getCarControls()\n",
    "controls.is_manual_gear = False\n",
    "controls.steering = 1.0\n",
    "client.setCarControls(controls)\n",
    "client.setCarTargetSpeed(2.1)\n",
    "time.sleep(3)\n",
    "client.setCarTargetSpeed(0)"
   ]
  },
  {
   "cell_type": "code",
   "execution_count": null,
   "metadata": {
    "vscode": {
     "languageId": "plaintext"
    }
   },
   "outputs": [],
   "source": [
    "controls.steering = 0.0\n",
    "client.setCarControls(controls)\n",
    "client.setCarTargetSpeed(2)\n",
    "time.sleep(3)\n",
    "client.setCarTargetSpeed(0)"
   ]
  },
  {
   "cell_type": "code",
   "execution_count": null,
   "metadata": {
    "vscode": {
     "languageId": "plaintext"
    }
   },
   "outputs": [],
   "source": [
    "def get_lidar_data(client):\n",
    "    lidar_data = client.getLidarData()\n",
    "    if len(lidar_data.point_cloud) < 3:\n",
    "        print(\"No points received from Lidar\")\n",
    "    else:\n",
    "        points = np.array(lidar_data.point_cloud, dtype=np.float32)\n",
    "        points = np.reshape(points, (int(points.shape[0] / 3), 3))\n",
    "        points_xyz = np.zeros_like(points)\n",
    "        points_xyz[:, 0] = points[:, 0]\n",
    "        points_xyz[:, 1] = points[:, 1]\n",
    "        points_xyz[:, 2] = -points[:, 2] + 1\n",
    "        print(\"Got LiDAR Data\")\n",
    "        return points_xyz\n",
    "     "
   ]
  },
  {
   "cell_type": "code",
   "execution_count": null,
   "metadata": {
    "vscode": {
     "languageId": "plaintext"
    }
   },
   "outputs": [],
   "source": [
    "\n",
    "%matplotlib inline\n",
    "import os\n",
    "from grid import GRID_USER_SESSION_BLOB_DIR\n",
    "import numpy as np\n",
    "import matplotlib.pyplot as plt\n",
    "points = get_lidar_data(client)\n",
    "fig = plt.figure()\n",
    "ax = fig.add_subplot(projection='3d')\n",
    "for point in points:\n",
    "    ax.scatter(point[0], point[1], point[2])\n",
    "ax.set_xlabel('X Label')\n",
    "ax.set_ylabel('Y Label')\n",
    "ax.set_zlabel('Z Label')\n",
    "save_path = os.path.join(GRID_USER_SESSION_BLOB_DIR, \"pcl.png\")\n",
    "plt.savefig(save_path, bbox_inches='tight')\n",
    "print(\"Saved!\")"
   ]
  },
  {
   "cell_type": "code",
   "execution_count": null,
   "metadata": {
    "vscode": {
     "languageId": "plaintext"
    }
   },
   "outputs": [],
   "source": [
    "\n",
    "import cv2\n",
    "img = cv2.imread(save_path)\n",
    "rr.log(\"PCL\", rr.Image(img))"
   ]
  }
 ],
 "metadata": {
  "language_info": {
   "name": "python"
  }
 },
 "nbformat": 4,
 "nbformat_minor": 2
}

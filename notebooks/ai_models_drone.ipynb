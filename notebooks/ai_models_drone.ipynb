{
 "cells": [
  {
   "cell_type": "code",
   "execution_count": null,
   "id": "d09473d9",
   "metadata": {},
   "outputs": [],
   "source": [
    "from grid.robot.aerial.airgen_drone import AirGenDrone \n",
    "airgen_drone_0 = AirGenDrone()"
   ]
  },
  {
   "cell_type": "code",
   "execution_count": null,
   "id": "ed24e3c6",
   "metadata": {},
   "outputs": [],
   "source": [
    "from grid.utils.types import Position\n",
    "airgen_drone_0.takeoff()\n",
    "airgen_drone_0.moveToPosition(Position(0, 0, -25))"
   ]
  },
  {
   "cell_type": "code",
   "execution_count": null,
   "id": "a9282dfa",
   "metadata": {},
   "outputs": [],
   "source": [
    "import airgen\n",
    "import numpy as np\n",
    "from grid.model.perception.detection.gdino import GroundingDINO\n",
    "\n",
    "groundingdino = GroundingDINO()\n",
    "\n",
    "# Define a detect function that captures an RGB image from the front camera and uses an object detector\n",
    "# Please seperate the object name with a dot (.)\n",
    "\n",
    "def detect(drone, object_name=\"fire.\"):\n",
    "    rgb_image = drone.getImage(\"front_center\", image_type=\"rgb\")\n",
    "    boxes, scores, labels = groundingdino.run(rgb_image.data, object_name)\n",
    "    return boxes, scores, labels\n",
    "\n",
    "# Let's search for the fire by rotating 360 degrees and trying to detect fire at each step\n",
    "yaw_angles = np.linspace(0, 360, 30)\n",
    "\n",
    "for yaw in yaw_angles:\n",
    "    airgen_drone_0.setYaw(np.deg2rad(yaw))\n",
    "    boxes, scores, labels = detect(airgen_drone_0)\n",
    "    if 'fire' in labels:\n",
    "        break"
   ]
  },
  {
   "cell_type": "code",
   "execution_count": null,
   "id": "1f06dd2e",
   "metadata": {},
   "outputs": [],
   "source": [
    "# Let's try to use a different model and object category\n",
    "\n",
    "from grid.model.perception.segmentation.clipseg import CLIPSeg\n",
    "clipseg = CLIPSeg(use_local = True)\n",
    "\n",
    "# Use CLIP features to try and segment out 'smoke'\n",
    "\n",
    "def segment(drone, object_name=\"smoke\"):\n",
    "    rgb_image = drone.getImage(\"front_center\", image_type=\"rgb\")\n",
    "    result = clipseg.run(rgb_image.data, object_name)\n",
    "    return result\n",
    "\n",
    "segment(airgen_drone_0)"
   ]
  },
  {
   "cell_type": "code",
   "execution_count": null,
   "id": "a4f3372e",
   "metadata": {},
   "outputs": [],
   "source": [
    "# Let's evaluate the vision models with some weather variations to the scene\n",
    "import time\n",
    "airgen_drone_0.client.simEnableWeather(True)\n",
    "\n",
    "for i in range(10):\n",
    "    airgen_drone_0.client.simSetWeatherParameter(airgen.WeatherParameter.Rain, i / 10)\n",
    "    airgen_drone_0.client.simSetWeatherParameter(airgen.WeatherParameter.Fog, i / 10)\n",
    "    detect(airgen_drone_0)\n",
    "    segment(airgen_drone_0)\n",
    "    time.sleep(1)"
   ]
  }
 ],
 "metadata": {
  "kernelspec": {
   "display_name": "grid",
   "language": "python",
   "name": "python3"
  },
  "language_info": {
   "name": "python",
   "version": "3.11.10"
  }
 },
 "nbformat": 4,
 "nbformat_minor": 5
}

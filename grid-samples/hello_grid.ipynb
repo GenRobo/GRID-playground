{
 "cells": [
  {
   "cell_type": "code",
   "execution_count": null,
   "id": "46448432",
   "metadata": {},
   "outputs": [
    {
     "name": "stdout",
     "output_type": "stream",
     "text": [
      "Connected!\n",
      "Client Ver:1 (Min Req: 1), Server Ver:1 (Min Req: 1)\n",
      "\n"
     ]
    }
   ],
   "source": [
    "from grid.robot.airgen_car import AirGenCar\n",
    "airgen_car_0 = AirGenCar(**{'geo': False})"
   ]
  },
  {
   "cell_type": "code",
   "execution_count": null,
   "id": "99cd0b9b",
   "metadata": {},
   "outputs": [
    {
     "data": {
      "application/vnd.jupyter.widget-view+json": {
       "model_id": "602d5b74913d440ba75f550898c42b29",
       "version_major": 2,
       "version_minor": 0
      },
      "text/plain": [
       "preprocessor_config.json:   0%|          | 0.00/380 [00:00<?, ?B/s]"
      ]
     },
     "metadata": {},
     "output_type": "display_data"
    },
    {
     "data": {
      "application/vnd.jupyter.widget-view+json": {
       "model_id": "dfcbab42fc5c446abfe0e2a12df6fc1a",
       "version_major": 2,
       "version_minor": 0
      },
      "text/plain": [
       "tokenizer_config.json:   0%|          | 0.00/974 [00:00<?, ?B/s]"
      ]
     },
     "metadata": {},
     "output_type": "display_data"
    },
    {
     "data": {
      "application/vnd.jupyter.widget-view+json": {
       "model_id": "cbb3dad82ec24dc68779770d08083f71",
       "version_major": 2,
       "version_minor": 0
      },
      "text/plain": [
       "vocab.json:   0%|          | 0.00/1.06M [00:00<?, ?B/s]"
      ]
     },
     "metadata": {},
     "output_type": "display_data"
    },
    {
     "data": {
      "application/vnd.jupyter.widget-view+json": {
       "model_id": "d0b4e93973b94e05a0432303791077ec",
       "version_major": 2,
       "version_minor": 0
      },
      "text/plain": [
       "merges.txt:   0%|          | 0.00/525k [00:00<?, ?B/s]"
      ]
     },
     "metadata": {},
     "output_type": "display_data"
    },
    {
     "data": {
      "application/vnd.jupyter.widget-view+json": {
       "model_id": "97a81ecd5c984180b410de010443d83c",
       "version_major": 2,
       "version_minor": 0
      },
      "text/plain": [
       "special_tokens_map.json:   0%|          | 0.00/472 [00:00<?, ?B/s]"
      ]
     },
     "metadata": {},
     "output_type": "display_data"
    },
    {
     "data": {
      "application/vnd.jupyter.widget-view+json": {
       "model_id": "c314f40af5474e0586601fdfe36781d5",
       "version_major": 2,
       "version_minor": 0
      },
      "text/plain": [
       "config.json:   0%|          | 0.00/4.73k [00:00<?, ?B/s]"
      ]
     },
     "metadata": {},
     "output_type": "display_data"
    },
    {
     "data": {
      "application/vnd.jupyter.widget-view+json": {
       "model_id": "0e68ed086dca44b3948f912159f3df3e",
       "version_major": 2,
       "version_minor": 0
      },
      "text/plain": [
       "pytorch_model.bin:   0%|          | 0.00/603M [00:00<?, ?B/s]"
      ]
     },
     "metadata": {},
     "output_type": "display_data"
    }
   ],
   "source": [
    "from grid.model.perception.segmentation.clipseg import CLIPSeg\n",
    "seg_clipseg_0 = CLIPSeg()"
   ]
  },
  {
   "cell_type": "code",
   "execution_count": null,
   "id": "d854b1ad",
   "metadata": {},
   "outputs": [],
   "source": [
    "import rerun as rr\n",
    "import airgen\n",
    "import time\n",
    "client = airgen_car_0.client\n",
    "client.enableApiControl(True)\n",
    "client.setCarTargetSpeed(5)\n",
    "time.sleep(10)\n",
    "client.setCarTargetSpeed(0)\n",
    "image = client.getImages(\"front_center\", [0])\n",
    "rr.log(\"Scene\", rr.Image(image[0][0]))"
   ]
  },
  {
   "cell_type": "code",
   "execution_count": null,
   "id": "db813ab1",
   "metadata": {},
   "outputs": [
    {
     "name": "stderr",
     "output_type": "stream",
     "text": [
      "Unused or unrecognized kwargs: padding.\n"
     ]
    },
    {
     "name": "stderr",
     "output_type": "stream",
     "text": [
      "[2024-07-23T20:54:09Z WARN  re_log_types::path::parse_path] When parsing the entity path \"Segmented Scene\": Unescaped whitespace. The path will be interpreted as /Segmented\\ Scene\n"
     ]
    }
   ],
   "source": [
    "road = seg_clipseg_0.segment_image(image[0][0], \"Road\")\n",
    "rr.log(\"Segmented Scene\", rr.Image(road))"
   ]
  },
  {
   "cell_type": "code",
   "execution_count": null,
   "id": "26b73a53",
   "metadata": {},
   "outputs": [],
   "source": [
    "image_new = client.getImages(\"back_center\", [0])\n",
    "rr.log(\"Car\", rr.Image(image_new[0][0]))"
   ]
  },
  {
   "cell_type": "code",
   "execution_count": null,
   "id": "d8a7d879",
   "metadata": {},
   "outputs": [
    {
     "name": "stderr",
     "output_type": "stream",
     "text": [
      "Unused or unrecognized kwargs: padding.\n"
     ]
    }
   ],
   "source": [
    "car = seg_clipseg_0.segment_image(image_new[0][0], \"Car\")\n",
    "rr.log(\"Segmented Car\", rr.Image(car))"
   ]
  },
  {
   "cell_type": "code",
   "execution_count": null,
   "id": "0a696783",
   "metadata": {},
   "outputs": [
    {
     "name": "stdout",
     "output_type": "stream",
     "text": [
      "<Vector3r> {   'x_val': -120.01766967773438,\n",
      "    'y_val': -0.14030574262142181,\n",
      "    'z_val': -0.2479163408279419}\n"
     ]
    }
   ],
   "source": [
    "client.setCarTargetSpeed(5)\n",
    "while True:\n",
    "    if client.simGetVehiclePose().position.x_val <= -120:\n",
    "        client.setCarTargetSpeed(0)\n",
    "        break\n",
    "print(client.simGetVehiclePose().position)"
   ]
  },
  {
   "cell_type": "code",
   "execution_count": null,
   "id": "57b17496",
   "metadata": {},
   "outputs": [],
   "source": [
    "controls = client.getCarControls()\n",
    "controls.is_manual_gear = False\n",
    "controls.steering = 1.0\n",
    "client.setCarControls(controls)\n",
    "client.setCarTargetSpeed(2.1)\n",
    "time.sleep(3)\n",
    "client.setCarTargetSpeed(0)"
   ]
  },
  {
   "cell_type": "code",
   "execution_count": null,
   "id": "321e6da5",
   "metadata": {},
   "outputs": [],
   "source": [
    "controls.steering = 0.0\n",
    "client.setCarControls(controls)\n",
    "client.setCarTargetSpeed(2)\n",
    "time.sleep(3)\n",
    "client.setCarTargetSpeed(0)"
   ]
  },
  {
   "cell_type": "code",
   "execution_count": null,
   "id": "45588910",
   "metadata": {},
   "outputs": [],
   "source": [
    "def get_lidar_data(client):\n",
    "    lidar_data = client.getLidarData()\n",
    "    if len(lidar_data.point_cloud) < 3:\n",
    "        print(\"No points received from Lidar\")\n",
    "    else:\n",
    "        points = np.array(lidar_data.point_cloud, dtype=np.float32)\n",
    "        points = np.reshape(points, (int(points.shape[0] / 3), 3))\n",
    "        points_xyz = np.zeros_like(points)\n",
    "        points_xyz[:, 0] = points[:, 0]\n",
    "        points_xyz[:, 1] = points[:, 1]\n",
    "        points_xyz[:, 2] = -points[:, 2] + 1\n",
    "        print(\"Got LiDAR Data\")\n",
    "        return points_xyz"
   ]
  },
  {
   "cell_type": "code",
   "execution_count": null,
   "id": "b41b1807",
   "metadata": {},
   "outputs": [],
   "source": [
    "%matplotlib inline\n",
    "import os\n",
    "from grid import GRID_USER_SESSION_BLOB_DIR\n",
    "import numpy as np\n",
    "import matplotlib.pyplot as plt\n",
    "points = get_lidar_data(client)\n",
    "fig = plt.figure()\n",
    "ax = fig.add_subplot(projection='3d')\n",
    "for point in points:\n",
    "    ax.scatter(point[0], point[1], point[2])\n",
    "ax.set_xlabel('X Label')\n",
    "ax.set_ylabel('Y Label')\n",
    "ax.set_zlabel('Z Label')\n",
    "save_path = os.path.join(GRID_USER_SESSION_BLOB_DIR, \"pcl.png\")\n",
    "plt.savefig(save_path, bbox_inches='tight')\n",
    "print(\"Saved!\")"
   ]
  },
  {
   "cell_type": "code",
   "execution_count": null,
   "id": "792520a3",
   "metadata": {},
   "outputs": [],
   "source": [
    "import cv2\n",
    "img = cv2.imread(save_path)\n",
    "rr.log(\"PCL\", rr.Image(img))"
   ]
  }
 ],
 "metadata": {
  "language_info": {
   "name": "python"
  }
 },
 "nbformat": 4,
 "nbformat_minor": 5
}

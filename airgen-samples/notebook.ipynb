{
 "cells": [
  {
   "cell_type": "code",
   "execution_count": null,
   "id": "3a638623",
   "metadata": {},
   "outputs": [
    {
     "name": "stdout",
     "output_type": "stream",
     "text": [
      "Connected!\n",
      "Client Ver:1 (Min Req: 1), Server Ver:1 (Min Req: 1)\n",
      "\n"
     ]
    }
   ],
   "source": [
    "from grid.robot.airgen_drone import AirGenDrone\n",
    "airgen_drone_0 = AirGenDrone()"
   ]
  },
  {
   "cell_type": "code",
   "execution_count": null,
   "id": "de35f3bc",
   "metadata": {},
   "outputs": [],
   "source": [
    "airgen_drone_0.client.takeoffAsync().join()\n",
    "airgen_drone_0.client.moveToZAsync(-25, 2).join()\n",
    "airgen_drone_0.client.rotateToYawAsync(-90).join()"
   ]
  },
  {
   "cell_type": "code",
   "execution_count": null,
   "id": "0baa40c4",
   "metadata": {},
   "outputs": [],
   "source": [
    "# Let's capture and display an infrared image\n",
    "import airgen\n",
    "import rerun as rr\n",
    "\n",
    "ir_image, camera_pose = airgen_drone_0.client.getImages(\"front_center\", [airgen.ImageType.Infrared])[0]\n",
    "\n",
    "rr.log(\"infrared\", rr.Image(ir_image))\n"
   ]
  },
  {
   "cell_type": "code",
   "execution_count": null,
   "id": "f9db538a",
   "metadata": {},
   "outputs": [
    {
     "name": "stdout",
     "output_type": "stream",
     "text": [
      "['Fire_Grd_BP_00_0']\n"
     ]
    },
    {
     "data": {
      "text/plain": [
       "True"
      ]
     },
     "execution_count": 1,
     "metadata": {},
     "output_type": "execute_result"
    }
   ],
   "source": [
    "# Let's now make the fire the highest intensity in the infrared camera\n",
    "\n",
    "# Get a list of all objects in the scene with the name Fire*\n",
    "fire_obj_refs = airgen_drone_0.client.simListSceneObjects(\"Fire.*\")\n",
    "print(fire_obj_refs)\n",
    "\n",
    "fire_obj = fire_obj_refs[0]\n",
    "\n",
    "airgen_drone_0.client.simSetSegmentationObjectID(fire_obj, 255, True)\n"
   ]
  },
  {
   "cell_type": "code",
   "execution_count": null,
   "id": "9049bc5e",
   "metadata": {},
   "outputs": [],
   "source": [
    "# Capture and display an infrared image again\n",
    "import airgen\n",
    "import rerun as rr\n",
    "\n",
    "ir_image, camera_pose = airgen_drone_0.client.getImages(\"front_center\", [airgen.ImageType.Infrared])[0]\n",
    "\n",
    "rr.log(\"infrared_new\", rr.Image(ir_image))\n"
   ]
  }
 ],
 "metadata": {
  "language_info": {
   "name": "python"
  }
 },
 "nbformat": 4,
 "nbformat_minor": 5
}
